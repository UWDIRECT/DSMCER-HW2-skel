{
 "cells": [
  {
   "cell_type": "markdown",
   "metadata": {},
   "source": [
    "### If a cell begins with DNC: do not change it and leave the markdown there so I can expect a basic level of  organization that is common to all HW (will help me with grading). This also clearly delineates the sections for me"
   ]
  },
  {
   "cell_type": "markdown",
   "metadata": {},
   "source": [
    "## DNC: preamble leave any general comments here and, in keeping with good practice, I suggest you load all needed modules in the preamble"
   ]
  },
  {
   "cell_type": "markdown",
   "metadata": {},
   "source": [
    "## DNC: Begin Part 1"
   ]
  },
  {
   "cell_type": "markdown",
   "metadata": {},
   "source": [
    "### Part 1: Data Visualization \n",
    "\n",
    "#### 1-1: Plotting x-y data\n",
    "\n",
    "* Use the HCEPDB file to create a single 4x4 composite plot (_not 4 separate figures_).  The plots should contain the following data\n",
    "    * Upper-left: PCE vs VOC\n",
    "    * UR: PCE vs JCS\n",
    "    * LL: E_HOMO vs VOC\n",
    "    * LR: E_LUMO vs PCE \n",
    "\n",
    "* You should make the plots the highest quality possible and, in your judgement, ready for inclusion in a formal report or publication. \n",
    "\n",
    "* In the cell after you are finished making the plot add a markdown cell and add the following information \n",
    "    * There are five terms above from the HCEPDB that relate to photovoltaic materials - define them as they pertain to molecules that could be used for energy conversion applications \n",
    "    \n",
    "    * Briefly explain the changes you made from the default plot and why you made them \n",
    "    \n",
    "#### 1-2: Contour plotting \n",
    "\n",
    "* Use the ALA2fes.dat file to create a contour plot of the alanine dipeptide $\\Phi$ vs $\\Psi$ free-energy surface. Guidelines and information: \n",
    "    * The energy scale in the data input file is on kJ/mol and the free-energy surface (FES) was collected at a temperature of 300K: \n",
    "    * You should create a contour plot that draws contour lines spaced every kT in energy and stops drawing contours once all of the features can be clearly seen. \n",
    "        * This is a slightly different visualization than what we drew in class which used shaded coloring to draw the contours \n",
    "    * Annotate the cell so I can follow all the steps you are doing. The final energy plot need not be in kJ/mol (you can convert it to other energy or use units of kT if you prefer.\n",
    "    \n"
   ]
  },
  {
   "cell_type": "markdown",
   "metadata": {},
   "source": [
    "## DNC: Begin Part 2"
   ]
  },
  {
   "cell_type": "markdown",
   "metadata": {},
   "source": [
    "### Part 2: Molecular Visualization\n",
    "\n",
    "#### 2-1: Molecules\n",
    "\n",
    "* Use the program Avogadro to create a 3D visualization of the ALA2 molecule (_hint: I showed it in one of my lecture slides and labeled the relevant angles_) \n",
    "\n",
    "* Show the molecule frmo at least two orientations. \n",
    "* Embed the image in your notebook using markdown. Please use a local copy of the image so I can see the source file \n",
    "\n",
    "#### 2-2: Materials \n",
    "\n",
    "* Use the program Avogadro to create a 3D visualization of the unit cell of anatase titanium dioxide.  If possible create it in a slab form showing several unit cells in x/y plane \n",
    "\n",
    "* Embed the image in a markdown cell and write out a list of concise instructions in a numbered markdown list - it should be clear enough an undergrad science major can follow the instructions and succeed."
   ]
  },
  {
   "cell_type": "code",
   "execution_count": null,
   "metadata": {
    "collapsed": true
   },
   "outputs": [],
   "source": []
  }
 ],
 "metadata": {
  "anaconda-cloud": {},
  "kernelspec": {
   "display_name": "Python [conda root]",
   "language": "python",
   "name": "conda-root-py"
  },
  "language_info": {
   "codemirror_mode": {
    "name": "ipython",
    "version": 2
   },
   "file_extension": ".py",
   "mimetype": "text/x-python",
   "name": "python",
   "nbconvert_exporter": "python",
   "pygments_lexer": "ipython2",
   "version": "2.7.12"
  }
 },
 "nbformat": 4,
 "nbformat_minor": 1
}
